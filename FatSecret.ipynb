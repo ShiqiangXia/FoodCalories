{
 "cells": [
  {
   "cell_type": "code",
   "execution_count": 4,
   "metadata": {},
   "outputs": [],
   "source": [
    "# FatSecret API\n",
    "from fatsecret import Fatsecret"
   ]
  },
  {
   "cell_type": "code",
   "execution_count": 223,
   "metadata": {
    "collapsed": true
   },
   "outputs": [
    {
     "name": "stdout",
     "output_type": "stream",
     "text": [
      "Collecting hide_code\n",
      "  Downloading hide_code-0.6.0.tar.gz (62 kB)\n",
      "\u001b[K     |████████████████████████████████| 62 kB 1.6 MB/s eta 0:00:01\n",
      "\u001b[?25hRequirement already satisfied: jupyter in /Library/Frameworks/Python.framework/Versions/3.8/lib/python3.8/site-packages (from hide_code) (1.0.0)\n",
      "Requirement already satisfied: nbconvert<6 in /Library/Frameworks/Python.framework/Versions/3.8/lib/python3.8/site-packages (from hide_code) (5.6.1)\n",
      "Requirement already satisfied: notebook>=6.0 in /Library/Frameworks/Python.framework/Versions/3.8/lib/python3.8/site-packages (from hide_code) (6.1.3)\n",
      "Requirement already satisfied: traitlets<5.0 in /Library/Frameworks/Python.framework/Versions/3.8/lib/python3.8/site-packages (from hide_code) (4.3.3)\n",
      "Requirement already satisfied: jupyter-core in /Library/Frameworks/Python.framework/Versions/3.8/lib/python3.8/site-packages (from nbconvert<6->hide_code) (4.6.3)\n",
      "Requirement already satisfied: mistune<2,>=0.8.1 in /Library/Frameworks/Python.framework/Versions/3.8/lib/python3.8/site-packages (from nbconvert<6->hide_code) (0.8.4)\n",
      "Requirement already satisfied: bleach in /Library/Frameworks/Python.framework/Versions/3.8/lib/python3.8/site-packages (from nbconvert<6->hide_code) (3.1.5)\n",
      "Requirement already satisfied: pandocfilters>=1.4.1 in /Library/Frameworks/Python.framework/Versions/3.8/lib/python3.8/site-packages (from nbconvert<6->hide_code) (1.4.2)\n",
      "Requirement already satisfied: pygments in /Library/Frameworks/Python.framework/Versions/3.8/lib/python3.8/site-packages (from nbconvert<6->hide_code) (2.6.1)\n",
      "Requirement already satisfied: defusedxml in /Library/Frameworks/Python.framework/Versions/3.8/lib/python3.8/site-packages (from nbconvert<6->hide_code) (0.6.0)\n",
      "Requirement already satisfied: testpath in /Library/Frameworks/Python.framework/Versions/3.8/lib/python3.8/site-packages (from nbconvert<6->hide_code) (0.4.4)\n",
      "Requirement already satisfied: nbformat>=4.4 in /Library/Frameworks/Python.framework/Versions/3.8/lib/python3.8/site-packages (from nbconvert<6->hide_code) (5.0.7)\n",
      "Requirement already satisfied: entrypoints>=0.2.2 in /Library/Frameworks/Python.framework/Versions/3.8/lib/python3.8/site-packages (from nbconvert<6->hide_code) (0.3)\n",
      "Requirement already satisfied: jinja2>=2.4 in /Library/Frameworks/Python.framework/Versions/3.8/lib/python3.8/site-packages (from nbconvert<6->hide_code) (2.11.2)\n",
      "Requirement already satisfied: MarkupSafe>=0.23 in /Library/Frameworks/Python.framework/Versions/3.8/lib/python3.8/site-packages (from jinja2>=2.4->nbconvert<6->hide_code) (1.1.1)\n",
      "Requirement already satisfied: ipython-genutils in /Library/Frameworks/Python.framework/Versions/3.8/lib/python3.8/site-packages (from nbformat>=4.4->nbconvert<6->hide_code) (0.2.0)\n",
      "Requirement already satisfied: jsonschema!=2.5.0,>=2.4 in /Library/Frameworks/Python.framework/Versions/3.8/lib/python3.8/site-packages (from nbformat>=4.4->nbconvert<6->hide_code) (3.2.0)\n",
      "Requirement already satisfied: setuptools in /Library/Frameworks/Python.framework/Versions/3.8/lib/python3.8/site-packages (from jsonschema!=2.5.0,>=2.4->nbformat>=4.4->nbconvert<6->hide_code) (47.1.0)\n",
      "Requirement already satisfied: pyrsistent>=0.14.0 in /Library/Frameworks/Python.framework/Versions/3.8/lib/python3.8/site-packages (from jsonschema!=2.5.0,>=2.4->nbformat>=4.4->nbconvert<6->hide_code) (0.16.0)\n",
      "Requirement already satisfied: six>=1.11.0 in /Library/Frameworks/Python.framework/Versions/3.8/lib/python3.8/site-packages (from jsonschema!=2.5.0,>=2.4->nbformat>=4.4->nbconvert<6->hide_code) (1.15.0)\n",
      "Requirement already satisfied: attrs>=17.4.0 in /Library/Frameworks/Python.framework/Versions/3.8/lib/python3.8/site-packages (from jsonschema!=2.5.0,>=2.4->nbformat>=4.4->nbconvert<6->hide_code) (20.1.0)\n",
      "Requirement already satisfied: argon2-cffi in /Library/Frameworks/Python.framework/Versions/3.8/lib/python3.8/site-packages (from notebook>=6.0->hide_code) (20.1.0)\n",
      "Requirement already satisfied: jupyter-client>=5.3.4 in /Library/Frameworks/Python.framework/Versions/3.8/lib/python3.8/site-packages (from notebook>=6.0->hide_code) (6.1.6)\n",
      "Requirement already satisfied: pyzmq>=17 in /Library/Frameworks/Python.framework/Versions/3.8/lib/python3.8/site-packages (from notebook>=6.0->hide_code) (19.0.2)\n",
      "Requirement already satisfied: tornado>=5.0 in /Library/Frameworks/Python.framework/Versions/3.8/lib/python3.8/site-packages (from notebook>=6.0->hide_code) (6.0.4)\n",
      "Requirement already satisfied: prometheus-client in /Library/Frameworks/Python.framework/Versions/3.8/lib/python3.8/site-packages (from notebook>=6.0->hide_code) (0.8.0)\n",
      "Requirement already satisfied: terminado>=0.8.3 in /Library/Frameworks/Python.framework/Versions/3.8/lib/python3.8/site-packages (from notebook>=6.0->hide_code) (0.8.3)\n",
      "Requirement already satisfied: ipykernel in /Library/Frameworks/Python.framework/Versions/3.8/lib/python3.8/site-packages (from notebook>=6.0->hide_code) (5.3.4)\n",
      "Requirement already satisfied: Send2Trash in /Library/Frameworks/Python.framework/Versions/3.8/lib/python3.8/site-packages (from notebook>=6.0->hide_code) (1.5.0)\n",
      "Requirement already satisfied: python-dateutil>=2.1 in /Library/Frameworks/Python.framework/Versions/3.8/lib/python3.8/site-packages (from jupyter-client>=5.3.4->notebook>=6.0->hide_code) (2.8.1)\n",
      "Requirement already satisfied: ptyprocess in /Library/Frameworks/Python.framework/Versions/3.8/lib/python3.8/site-packages (from terminado>=0.8.3->notebook>=6.0->hide_code) (0.6.0)\n",
      "Requirement already satisfied: decorator in /Library/Frameworks/Python.framework/Versions/3.8/lib/python3.8/site-packages (from traitlets<5.0->hide_code) (4.4.2)\n",
      "Requirement already satisfied: cffi>=1.0.0 in /Library/Frameworks/Python.framework/Versions/3.8/lib/python3.8/site-packages (from argon2-cffi->notebook>=6.0->hide_code) (1.14.2)\n",
      "Requirement already satisfied: pycparser in /Library/Frameworks/Python.framework/Versions/3.8/lib/python3.8/site-packages (from cffi>=1.0.0->argon2-cffi->notebook>=6.0->hide_code) (2.20)\n",
      "Requirement already satisfied: webencodings in /Library/Frameworks/Python.framework/Versions/3.8/lib/python3.8/site-packages (from bleach->nbconvert<6->hide_code) (0.5.1)\n",
      "Requirement already satisfied: packaging in /Library/Frameworks/Python.framework/Versions/3.8/lib/python3.8/site-packages (from bleach->nbconvert<6->hide_code) (20.4)\n",
      "Requirement already satisfied: appnope in /Library/Frameworks/Python.framework/Versions/3.8/lib/python3.8/site-packages (from ipykernel->notebook>=6.0->hide_code) (0.1.0)\n",
      "Requirement already satisfied: ipython>=5.0.0 in /Library/Frameworks/Python.framework/Versions/3.8/lib/python3.8/site-packages (from ipykernel->notebook>=6.0->hide_code) (7.17.0)\n",
      "Requirement already satisfied: prompt-toolkit!=3.0.0,!=3.0.1,<3.1.0,>=2.0.0 in /Library/Frameworks/Python.framework/Versions/3.8/lib/python3.8/site-packages (from ipython>=5.0.0->ipykernel->notebook>=6.0->hide_code) (3.0.6)\n",
      "Requirement already satisfied: pickleshare in /Library/Frameworks/Python.framework/Versions/3.8/lib/python3.8/site-packages (from ipython>=5.0.0->ipykernel->notebook>=6.0->hide_code) (0.7.5)\n",
      "Requirement already satisfied: pexpect in /Library/Frameworks/Python.framework/Versions/3.8/lib/python3.8/site-packages (from ipython>=5.0.0->ipykernel->notebook>=6.0->hide_code) (4.8.0)\n",
      "Requirement already satisfied: jedi>=0.10 in /Library/Frameworks/Python.framework/Versions/3.8/lib/python3.8/site-packages (from ipython>=5.0.0->ipykernel->notebook>=6.0->hide_code) (0.17.2)\n",
      "Requirement already satisfied: backcall in /Library/Frameworks/Python.framework/Versions/3.8/lib/python3.8/site-packages (from ipython>=5.0.0->ipykernel->notebook>=6.0->hide_code) (0.2.0)\n",
      "Requirement already satisfied: parso<0.8.0,>=0.7.0 in /Library/Frameworks/Python.framework/Versions/3.8/lib/python3.8/site-packages (from jedi>=0.10->ipython>=5.0.0->ipykernel->notebook>=6.0->hide_code) (0.7.1)\n",
      "Requirement already satisfied: wcwidth in /Library/Frameworks/Python.framework/Versions/3.8/lib/python3.8/site-packages (from prompt-toolkit!=3.0.0,!=3.0.1,<3.1.0,>=2.0.0->ipython>=5.0.0->ipykernel->notebook>=6.0->hide_code) (0.2.5)\n",
      "Requirement already satisfied: ipywidgets in /Library/Frameworks/Python.framework/Versions/3.8/lib/python3.8/site-packages (from jupyter->hide_code) (7.5.1)\n",
      "Requirement already satisfied: jupyter-console in /Library/Frameworks/Python.framework/Versions/3.8/lib/python3.8/site-packages (from jupyter->hide_code) (6.1.0)\n",
      "Requirement already satisfied: qtconsole in /Library/Frameworks/Python.framework/Versions/3.8/lib/python3.8/site-packages (from jupyter->hide_code) (4.7.6)\n"
     ]
    },
    {
     "name": "stdout",
     "output_type": "stream",
     "text": [
      "Requirement already satisfied: widgetsnbextension~=3.5.0 in /Library/Frameworks/Python.framework/Versions/3.8/lib/python3.8/site-packages (from ipywidgets->jupyter->hide_code) (3.5.1)\n",
      "Requirement already satisfied: pyparsing>=2.0.2 in /Library/Frameworks/Python.framework/Versions/3.8/lib/python3.8/site-packages (from packaging->bleach->nbconvert<6->hide_code) (2.4.7)\n",
      "Collecting pdfkit\n",
      "  Downloading pdfkit-0.6.1-py3-none-any.whl (12 kB)\n",
      "Requirement already satisfied: qtpy in /Library/Frameworks/Python.framework/Versions/3.8/lib/python3.8/site-packages (from qtconsole->jupyter->hide_code) (1.9.0)\n",
      "Using legacy 'setup.py install' for hide-code, since package 'wheel' is not installed.\n",
      "Installing collected packages: pdfkit, hide-code\n",
      "    Running setup.py install for hide-code ... \u001b[?25ldone\n",
      "\u001b[?25hSuccessfully installed hide-code-0.6.0 pdfkit-0.6.1\n",
      "\u001b[33mWARNING: You are using pip version 20.3.3; however, version 21.1.2 is available.\n",
      "You should consider upgrading via the '/Library/Frameworks/Python.framework/Versions/3.8/bin/python3 -m pip install --upgrade pip' command.\u001b[0m\n",
      "Installing /Library/Frameworks/Python.framework/Versions/3.8/lib/python3.8/site-packages/hide_code/ -> hide_code\n",
      "Making directory: /usr/local/share/jupyter/nbextensions/hide_code/\n",
      "Copying: /Library/Frameworks/Python.framework/Versions/3.8/lib/python3.8/site-packages/hide_code/hide_code_preprocessor.py -> /usr/local/share/jupyter/nbextensions/hide_code/hide_code_preprocessor.py\n",
      "Copying: /Library/Frameworks/Python.framework/Versions/3.8/lib/python3.8/site-packages/hide_code/hide_code.py -> /usr/local/share/jupyter/nbextensions/hide_code/hide_code.py\n",
      "Copying: /Library/Frameworks/Python.framework/Versions/3.8/lib/python3.8/site-packages/hide_code/hide_code_latex_exporter.py -> /usr/local/share/jupyter/nbextensions/hide_code/hide_code_latex_exporter.py\n",
      "Copying: /Library/Frameworks/Python.framework/Versions/3.8/lib/python3.8/site-packages/hide_code/LICENSE -> /usr/local/share/jupyter/nbextensions/hide_code/LICENSE\n",
      "Copying: /Library/Frameworks/Python.framework/Versions/3.8/lib/python3.8/site-packages/hide_code/hide_code_html_exporter.py -> /usr/local/share/jupyter/nbextensions/hide_code/hide_code_html_exporter.py\n",
      "Copying: /Library/Frameworks/Python.framework/Versions/3.8/lib/python3.8/site-packages/hide_code/hide_code.js -> /usr/local/share/jupyter/nbextensions/hide_code/hide_code.js\n",
      "Copying: /Library/Frameworks/Python.framework/Versions/3.8/lib/python3.8/site-packages/hide_code/auto-load.txt -> /usr/local/share/jupyter/nbextensions/hide_code/auto-load.txt\n",
      "Copying: /Library/Frameworks/Python.framework/Versions/3.8/lib/python3.8/site-packages/hide_code/__init__.py -> /usr/local/share/jupyter/nbextensions/hide_code/__init__.py\n",
      "Copying: /Library/Frameworks/Python.framework/Versions/3.8/lib/python3.8/site-packages/hide_code/hide_code_config.json -> /usr/local/share/jupyter/nbextensions/hide_code/hide_code_config.json\n",
      "Copying: /Library/Frameworks/Python.framework/Versions/3.8/lib/python3.8/site-packages/hide_code/utils.py -> /usr/local/share/jupyter/nbextensions/hide_code/utils.py\n",
      "Copying: /Library/Frameworks/Python.framework/Versions/3.8/lib/python3.8/site-packages/hide_code/hide_code_latexpdf_exporter.py -> /usr/local/share/jupyter/nbextensions/hide_code/hide_code_latexpdf_exporter.py\n",
      "Copying: /Library/Frameworks/Python.framework/Versions/3.8/lib/python3.8/site-packages/hide_code/hide_code_slides_exporter.py -> /usr/local/share/jupyter/nbextensions/hide_code/hide_code_slides_exporter.py\n",
      "Copying: /Library/Frameworks/Python.framework/Versions/3.8/lib/python3.8/site-packages/hide_code/hide_code_config.py -> /usr/local/share/jupyter/nbextensions/hide_code/hide_code_config.py\n",
      "Copying: /Library/Frameworks/Python.framework/Versions/3.8/lib/python3.8/site-packages/hide_code/hide_code_pdf_exporter.py -> /usr/local/share/jupyter/nbextensions/hide_code/hide_code_pdf_exporter.py\n",
      "Copying: /Library/Frameworks/Python.framework/Versions/3.8/lib/python3.8/site-packages/hide_code/auto-load-server-extension.txt -> /usr/local/share/jupyter/nbextensions/hide_code/auto-load-server-extension.txt\n",
      "Making directory: /usr/local/share/jupyter/nbextensions/hide_code/test\n",
      "Copying: /Library/Frameworks/Python.framework/Versions/3.8/lib/python3.8/site-packages/hide_code/test/utf-8 test.html -> /usr/local/share/jupyter/nbextensions/hide_code/test/utf-8 test.html\n",
      "Copying: /Library/Frameworks/Python.framework/Versions/3.8/lib/python3.8/site-packages/hide_code/test/utf-8 test.ipynb -> /usr/local/share/jupyter/nbextensions/hide_code/test/utf-8 test.ipynb\n",
      "Copying: /Library/Frameworks/Python.framework/Versions/3.8/lib/python3.8/site-packages/hide_code/test/test_hide_code.py -> /usr/local/share/jupyter/nbextensions/hide_code/test/test_hide_code.py\n",
      "Making directory: /usr/local/share/jupyter/nbextensions/hide_code/test/__pycache__\n",
      "Copying: /Library/Frameworks/Python.framework/Versions/3.8/lib/python3.8/site-packages/hide_code/test/__pycache__/test_hide_code.cpython-38.pyc -> /usr/local/share/jupyter/nbextensions/hide_code/test/__pycache__/test_hide_code.cpython-38.pyc\n",
      "Making directory: /usr/local/share/jupyter/nbextensions/hide_code/__pycache__\n",
      "Copying: /Library/Frameworks/Python.framework/Versions/3.8/lib/python3.8/site-packages/hide_code/__pycache__/hide_code_latex_exporter.cpython-38.pyc -> /usr/local/share/jupyter/nbextensions/hide_code/__pycache__/hide_code_latex_exporter.cpython-38.pyc\n",
      "Copying: /Library/Frameworks/Python.framework/Versions/3.8/lib/python3.8/site-packages/hide_code/__pycache__/__init__.cpython-38.pyc -> /usr/local/share/jupyter/nbextensions/hide_code/__pycache__/__init__.cpython-38.pyc\n",
      "Copying: /Library/Frameworks/Python.framework/Versions/3.8/lib/python3.8/site-packages/hide_code/__pycache__/hide_code_config.cpython-38.pyc -> /usr/local/share/jupyter/nbextensions/hide_code/__pycache__/hide_code_config.cpython-38.pyc\n",
      "Copying: /Library/Frameworks/Python.framework/Versions/3.8/lib/python3.8/site-packages/hide_code/__pycache__/hide_code.cpython-38.pyc -> /usr/local/share/jupyter/nbextensions/hide_code/__pycache__/hide_code.cpython-38.pyc\n",
      "Copying: /Library/Frameworks/Python.framework/Versions/3.8/lib/python3.8/site-packages/hide_code/__pycache__/hide_code_latexpdf_exporter.cpython-38.pyc -> /usr/local/share/jupyter/nbextensions/hide_code/__pycache__/hide_code_latexpdf_exporter.cpython-38.pyc\n",
      "Copying: /Library/Frameworks/Python.framework/Versions/3.8/lib/python3.8/site-packages/hide_code/__pycache__/utils.cpython-38.pyc -> /usr/local/share/jupyter/nbextensions/hide_code/__pycache__/utils.cpython-38.pyc\n",
      "Copying: /Library/Frameworks/Python.framework/Versions/3.8/lib/python3.8/site-packages/hide_code/__pycache__/hide_code_pdf_exporter.cpython-38.pyc -> /usr/local/share/jupyter/nbextensions/hide_code/__pycache__/hide_code_pdf_exporter.cpython-38.pyc\n",
      "Copying: /Library/Frameworks/Python.framework/Versions/3.8/lib/python3.8/site-packages/hide_code/__pycache__/hide_code_slides_exporter.cpython-38.pyc -> /usr/local/share/jupyter/nbextensions/hide_code/__pycache__/hide_code_slides_exporter.cpython-38.pyc\n",
      "Copying: /Library/Frameworks/Python.framework/Versions/3.8/lib/python3.8/site-packages/hide_code/__pycache__/hide_code_preprocessor.cpython-38.pyc -> /usr/local/share/jupyter/nbextensions/hide_code/__pycache__/hide_code_preprocessor.cpython-38.pyc\n",
      "Copying: /Library/Frameworks/Python.framework/Versions/3.8/lib/python3.8/site-packages/hide_code/__pycache__/hide_code_html_exporter.cpython-38.pyc -> /usr/local/share/jupyter/nbextensions/hide_code/__pycache__/hide_code_html_exporter.cpython-38.pyc\n",
      "Making directory: /usr/local/share/jupyter/nbextensions/hide_code/Templates\n",
      "Copying: /Library/Frameworks/Python.framework/Versions/3.8/lib/python3.8/site-packages/hide_code/Templates/hide_code_basic.tpl -> /usr/local/share/jupyter/nbextensions/hide_code/Templates/hide_code_basic.tpl\n",
      "Copying: /Library/Frameworks/Python.framework/Versions/3.8/lib/python3.8/site-packages/hide_code/Templates/hide_code_slides.tpl -> /usr/local/share/jupyter/nbextensions/hide_code/Templates/hide_code_slides.tpl\n",
      "Copying: /Library/Frameworks/Python.framework/Versions/3.8/lib/python3.8/site-packages/hide_code/Templates/hide_code_article.tplx -> /usr/local/share/jupyter/nbextensions/hide_code/Templates/hide_code_article.tplx\n",
      "Copying: /Library/Frameworks/Python.framework/Versions/3.8/lib/python3.8/site-packages/hide_code/Templates/hide_code_base_style.tplx -> /usr/local/share/jupyter/nbextensions/hide_code/Templates/hide_code_base_style.tplx\n",
      "Copying: /Library/Frameworks/Python.framework/Versions/3.8/lib/python3.8/site-packages/hide_code/Templates/hide_code_full.tpl -> /usr/local/share/jupyter/nbextensions/hide_code/Templates/hide_code_full.tpl\n",
      "- Validating: \u001b[32mOK\u001b[0m\n",
      "\n",
      "    To initialize this nbextension in the browser every time the notebook (or other app) loads:\n",
      "    \n",
      "          jupyter nbextension enable hide_code --py\n",
      "    \n"
     ]
    },
    {
     "name": "stdout",
     "output_type": "stream",
     "text": [
      "Enabling notebook extension hide_code/hide_code...\n",
      "      - Validating: \u001b[32mOK\u001b[0m\n",
      "Enabling: hide_code\n",
      "- Writing config: /Users/shiqiangxia/.jupyter\n",
      "    - Validating...\n",
      "      hide_code  \u001b[32mOK\u001b[0m\n"
     ]
    }
   ],
   "source": [
    "!pip install hide_code\n",
    "!jupyter nbextension install --py hide_code\n",
    "!jupyter nbextension enable --py hide_code\n",
    "!jupyter serverextension enable --py hide_code"
   ]
  },
  {
   "cell_type": "markdown",
   "metadata": {},
   "source": [
    "### Access Fastsecret Database API"
   ]
  },
  {
   "cell_type": "code",
   "execution_count": 226,
   "metadata": {
    "hideCode": true
   },
   "outputs": [
    {
     "name": "stdout",
     "output_type": "stream",
     "text": [
      "key and secret for the API\n",
      "Senstive info, codes are hidden. \n"
     ]
    }
   ],
   "source": [
    "consumer_key = 'c9cf8fed3da74f7085018f0d0e89f160'\n",
    "consumer_secret = '1c0e39b64cf4456690692d8b3a7312b7'\n",
    "print('key and secret for the API\\nSenstive info, codes are hidden. ')"
   ]
  },
  {
   "cell_type": "code",
   "execution_count": 225,
   "metadata": {},
   "outputs": [
    {
     "name": "stdout",
     "output_type": "stream",
     "text": [
      "Success!\n"
     ]
    }
   ],
   "source": [
    "try:\n",
    "    fs = Fatsecret(consumer_key, consumer_secret)\n",
    "except:\n",
    "    print(\"Failed\")\n",
    "else:\n",
    "    print(\"Success!\")"
   ]
  },
  {
   "cell_type": "markdown",
   "metadata": {},
   "source": [
    "### functions:\n",
    "\n",
    "#### top level: \n",
    "Give names and amount, return nutrition facts\n",
    "```\n",
    "meal__nutrition_calculator(response, name_list, amount_list)\n",
    "```\n",
    "\n",
    "#### Middle level:\n",
    "Calculate nutriton based on food and amount\n",
    "```\n",
    "meal_nutrition(food_list, amount_list, print_flag = True, break_down = False)\n",
    "```\n",
    "\n",
    "#### Bottom level\n",
    "Find one certain food (or the closest n results)\n",
    "```\n",
    "find_food_nutrition(response, name, max_results = 1)\n",
    "```\n",
    "\n",
    "\n",
    "\n",
    "\n",
    "\n"
   ]
  },
  {
   "cell_type": "markdown",
   "metadata": {},
   "source": [
    "### Define MyFood Class"
   ]
  },
  {
   "cell_type": "code",
   "execution_count": 209,
   "metadata": {},
   "outputs": [],
   "source": [
    "class MyFood:\n",
    "    \n",
    "    def __init__(self, name, food_id,serving_amount, cal, carb, fat, protein):\n",
    "        self.name = name\n",
    "        self.food_id = food_id\n",
    "        self.serving_amount = serving_amount\n",
    "        self.cal = cal\n",
    "        self.carb = carb\n",
    "        self.fat = fat\n",
    "        self.protein = protein\n",
    "        self.normalized_flag = False\n",
    "        \n",
    "    def show_nutrition_facts(self):\n",
    "        print('---'*10)\n",
    "        print('Food name: %s' % self.name)\n",
    "        print('Food id: %s' % self.food_id)\n",
    "        print('1 serving: %.2f g'  % self.serving_amount)\n",
    "        print('Calorie: %.2f cal, Carbs: %.2f g, Fat: %.2f g, Protein: %.2f g' %(self.cal, self.carb, self.fat, self.protein))\n",
    "\n",
    "    def normalize_serving(self):\n",
    "        if self.serving_amount:\n",
    "            goal = 100.0;\n",
    "            current = self.serving_amount;\n",
    "            if current!= goal:\n",
    "                self.serving_amount = goal;\n",
    "                ratio = goal/current ;\n",
    "                self.cal *= ratio;\n",
    "                self.carb *= ratio;\n",
    "                self.fat  *= ratio;\n",
    "                self.protein *= ratio;\n",
    "            self.normalized_flag = True;\n",
    "           \n",
    "        else:\n",
    "            print('This food \"%s\" has not serving amount info, we can not normalize it.' % self.name)\n",
    "            \n",
    "            \n",
    "    def calculate_nutrition(self, amount_g):\n",
    "        if self.serving_amount:\n",
    "            ratio = amount_g/self.serving_amount\n",
    "        else:\n",
    "            print('Warning: This food has not serving amount info')\n",
    "            ratio = 1.0; \n",
    "        return [self.cal*ratio, self.carb*ratio, self.fat * ratio, self.protein * ratio]    \n",
    "        \n",
    "                \n",
    "                \n",
    "        \n",
    "        \n",
    "\n",
    "        "
   ]
  },
  {
   "cell_type": "markdown",
   "metadata": {},
   "source": [
    "### Obtain food data from FatSecret API"
   ]
  },
  {
   "cell_type": "code",
   "execution_count": 180,
   "metadata": {},
   "outputs": [],
   "source": [
    "def find_food_nutrition(response, name, max_results = 1):\n",
    "    try:\n",
    "        foods = response.foods_search(name, max_results = max_results)\n",
    "    except:\n",
    "        print(\"Food %s is not found!\"%name)\n",
    "    else:\n",
    "        id_list = [f['food_id'] for f in foods]\n",
    "        if len(id_list)>=max_results:\n",
    "            id_list = id_list[0:max_results]\n",
    "    \n",
    "    food_list = [];\n",
    "    \n",
    "    for idx in id_list:\n",
    "        food = response.food_get(idx)\n",
    "        all_servings = food['servings']['serving']\n",
    "        if isinstance(all_servings,list):\n",
    "            chosen_serving = all_servings[0]\n",
    "        else:\n",
    "            chosen_serving = all_servings\n",
    "        try : \n",
    "            serving_amount = chosen_serving['metric_serving_amount']\n",
    "            serving_amount = float(serving_amount)\n",
    "        except:\n",
    "            serving_amount = None\n",
    "            \n",
    "        name =  food['food_name']   \n",
    "        cal = float(chosen_serving['calories'])\n",
    "        carb = float(chosen_serving['carbohydrate'])\n",
    "        fat = float(chosen_serving['fat'])\n",
    "        protein = float(chosen_serving['protein'])\n",
    "            \n",
    "#         print('---'*10)\n",
    "#         print('Food name: %s' % name)\n",
    "#         print('Food id: %s' % idx)\n",
    "#         print('1 serving: %s g'  % serving_amount)\n",
    "#         print('Calorie: %s cal, Carbs: %sg, Fat: %sg, Protein: %sg' %(cal,carb,fat,protein))\n",
    "        \n",
    "        temp_food = MyFood(name, idx, serving_amount, cal, carb, fat, protein)\n",
    "        \n",
    "        food_list.append(temp_food)\n",
    "    \n",
    "    return food_list\n",
    "        \n",
    "    \n",
    "        \n",
    "    "
   ]
  },
  {
   "cell_type": "markdown",
   "metadata": {},
   "source": [
    "### Calculate Meal Nutrition based on food list and amount list"
   ]
  },
  {
   "cell_type": "code",
   "execution_count": 211,
   "metadata": {},
   "outputs": [],
   "source": [
    "def meal_nutrition(food_list, amount_list, print_flag = True, break_down = False):\n",
    "    total = [0.0]*4\n",
    "    if break_down:\n",
    "        nutri_list = [];\n",
    "        \n",
    "    for ii, food in enumerate(food_list):\n",
    "        nutrition = food.calculate_nutrition(amount_list[ii])\n",
    "        for jj in range(4):\n",
    "            total[jj] += nutrition[jj]\n",
    "        if break_down:\n",
    "            nutri_list.append(nutrition)\n",
    "    \n",
    "    print('Meal nutrition facts:')\n",
    "    print('Calorie: %.2f, Carb: %.2f, Fat: %.2f, Protein: %.2f'%(total[0],total[1],total[2],total[3]))\n",
    "    if break_down:\n",
    "        print(\"\\nNutrition breakdown:\")\n",
    "        for ii, food in enumerate(food_list):\n",
    "            print('----'*10)\n",
    "            temp_nutrition = nutri_list[ii]\n",
    "            print('%s, amount %s g' %(food.name, amount_list[ii]))\n",
    "            print('Calorie: %.2f (%.1f%%), Carb: %.2f (%.1f%%), Fat: %.2f (%.1f%%), Protein: %.2f (%.1f%%)'%\n",
    "                  (temp_nutrition[0],100*temp_nutrition[0]/total[0],\n",
    "                   temp_nutrition[1],100*temp_nutrition[1]/total[1],\n",
    "                   temp_nutrition[2],100*temp_nutrition[2]/total[2],\n",
    "                   temp_nutrition[3],100*temp_nutrition[3]/total[3]))\n",
    "            \n",
    "        "
   ]
  },
  {
   "cell_type": "code",
   "execution_count": 220,
   "metadata": {},
   "outputs": [],
   "source": [
    "def meal__nutrition_calculator(response, name_list, amount_list):\n",
    "    food_list = [];\n",
    "    for foo in name_list:\n",
    "        temp_food = find_food_nutrition(fs,foo)[0]\n",
    "        food_list.append(temp_food)\n",
    "        temp_food.normalize_serving()\n",
    "        #temp_food.show_nutrition_facts()\n",
    "    meal_nutrition(food_list,amount_list,break_down=True)"
   ]
  },
  {
   "cell_type": "markdown",
   "metadata": {},
   "source": [
    "### Test codes"
   ]
  },
  {
   "cell_type": "code",
   "execution_count": 181,
   "metadata": {
    "scrolled": true
   },
   "outputs": [],
   "source": [
    "food_list = find_food_nutrition(fs,'pasta',max_results=3)"
   ]
  },
  {
   "cell_type": "code",
   "execution_count": 182,
   "metadata": {
    "collapsed": true
   },
   "outputs": [
    {
     "name": "stdout",
     "output_type": "stream",
     "text": [
      "------------------------------\n",
      "Food name: Penne\n",
      "Food id: 285243\n",
      "1 serving: 140.00 g\n",
      "Calorie: 220.00 cal, Carbs: 42.95 g, Fat: 1.29 g, Protein: 8.07 g\n"
     ]
    }
   ],
   "source": [
    "food_list[0].show_nutrition_facts()"
   ]
  },
  {
   "cell_type": "code",
   "execution_count": 183,
   "metadata": {
    "collapsed": true
   },
   "outputs": [
    {
     "data": {
      "text/plain": [
       "[157.14285714285714, 30.67857142857143, 0.9214285714285715, 5.764285714285714]"
      ]
     },
     "execution_count": 183,
     "metadata": {},
     "output_type": "execute_result"
    }
   ],
   "source": [
    "food_list[0].calculate_nutrition(100)"
   ]
  },
  {
   "cell_type": "code",
   "execution_count": 184,
   "metadata": {
    "collapsed": true
   },
   "outputs": [
    {
     "name": "stdout",
     "output_type": "stream",
     "text": [
      "Normalizate : 1 serving amount = 100g\n"
     ]
    },
    {
     "data": {
      "text/plain": [
       "True"
      ]
     },
     "execution_count": 184,
     "metadata": {},
     "output_type": "execute_result"
    }
   ],
   "source": [
    "food_list[0].normalize_serving()"
   ]
  },
  {
   "cell_type": "code",
   "execution_count": 186,
   "metadata": {
    "collapsed": true
   },
   "outputs": [
    {
     "name": "stdout",
     "output_type": "stream",
     "text": [
      "------------------------------\n",
      "Food name: Penne\n",
      "Food id: 285243\n",
      "1 serving: 100.00 g\n",
      "Calorie: 157.14 cal, Carbs: 30.68 g, Fat: 0.92 g, Protein: 5.76 g\n"
     ]
    }
   ],
   "source": [
    "food_list[0].show_nutrition_facts()"
   ]
  },
  {
   "cell_type": "code",
   "execution_count": 187,
   "metadata": {
    "collapsed": true
   },
   "outputs": [
    {
     "data": {
      "text/plain": [
       "[1, 2, 3, 1, 2, 3]"
      ]
     },
     "execution_count": 187,
     "metadata": {},
     "output_type": "execute_result"
    }
   ],
   "source": [
    "a= [1,2,3]\n",
    "b = [1,2,3]\n",
    "a+b"
   ]
  },
  {
   "cell_type": "code",
   "execution_count": 203,
   "metadata": {
    "collapsed": true
   },
   "outputs": [
    {
     "name": "stdout",
     "output_type": "stream",
     "text": [
      "Meal nutrition facts:\n",
      "Calorie: 471.43, Carb: 92.04, Fat: 2.76, Protein: 17.29\n",
      "Nutrition breakdown:\n",
      "----------------------------------------\n",
      "Penne, amount 100 g\n",
      "Calorie: 157.14 (33.3%), Carb: 30.68 (33.3%), Fat: 0.92 (33.3%), Protein: 5.76 (33.3%)\n",
      "----------------------------------------\n",
      "Spaghetti, amount 100 g\n",
      "Calorie: 157.14 (33.3%), Carb: 30.68 (33.3%), Fat: 0.92 (33.3%), Protein: 5.76 (33.3%)\n",
      "----------------------------------------\n",
      "Rotini, amount 100 g\n",
      "Calorie: 157.14 (33.3%), Carb: 30.68 (33.3%), Fat: 0.92 (33.3%), Protein: 5.76 (33.3%)\n"
     ]
    }
   ],
   "source": [
    "meal_nutrition(food_list,[100,100,100],break_down=True)"
   ]
  },
  {
   "cell_type": "code",
   "execution_count": 221,
   "metadata": {},
   "outputs": [
    {
     "name": "stdout",
     "output_type": "stream",
     "text": [
      "Meal nutrition facts:\n",
      "Calorie: 622.37, Carb: 95.77, Fat: 9.50, Protein: 34.99\n",
      "\n",
      "Nutrition breakdown:\n",
      "----------------------------------------\n",
      "White Rice (Long-Grain, Dry, Unenriched, Parboiled), amount 100 g\n",
      "Calorie: 373.80 (60.1%), Carb: 80.43 (84.0%), Fat: 1.04 (10.9%), Protein: 8.11 (23.2%)\n",
      "----------------------------------------\n",
      "Ground Beef 93%, amount 112 g\n",
      "Calorie: 170.00 (27.3%), Carb: 0.00 (0.0%), Fat: 8.00 (84.2%), Protein: 24.00 (68.6%)\n",
      "----------------------------------------\n",
      "Penne, amount 50 g\n",
      "Calorie: 78.57 (12.6%), Carb: 15.34 (16.0%), Fat: 0.46 (4.9%), Protein: 2.88 (8.2%)\n"
     ]
    }
   ],
   "source": [
    "food_cal(fs, ['rice dry','ground beef 93%','pasta'],[100,112,50])"
   ]
  },
  {
   "cell_type": "code",
   "execution_count": null,
   "metadata": {},
   "outputs": [],
   "source": []
  }
 ],
 "metadata": {
  "celltoolbar": "Hide code",
  "kernelspec": {
   "display_name": "Python 3",
   "language": "python",
   "name": "python3"
  },
  "language_info": {
   "codemirror_mode": {
    "name": "ipython",
    "version": 3
   },
   "file_extension": ".py",
   "mimetype": "text/x-python",
   "name": "python",
   "nbconvert_exporter": "python",
   "pygments_lexer": "ipython3",
   "version": "3.8.5"
  }
 },
 "nbformat": 4,
 "nbformat_minor": 4
}
