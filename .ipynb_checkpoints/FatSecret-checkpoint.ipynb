{
 "cells": [
  {
   "cell_type": "code",
   "execution_count": 1,
   "metadata": {},
   "outputs": [],
   "source": [
    "# FatSecret API\n",
    "from fatsecret import Fatsecret"
   ]
  },
  {
   "cell_type": "markdown",
   "metadata": {},
   "source": [
    "### Access Fastsecret Database API"
   ]
  },
  {
   "cell_type": "code",
   "execution_count": 2,
   "metadata": {
    "hideCode": false
   },
   "outputs": [
    {
     "name": "stdout",
     "output_type": "stream",
     "text": [
      "key and secret for the API\n",
      "Senstive info, codes are hidden. \n"
     ]
    }
   ],
   "source": [
    "consumer_key = 'c9cf8fed3da74f7085018f0d0e89f160'\n",
    "consumer_secret = '1c0e39b64cf4456690692d8b3a7312b7'\n",
    "print('key and secret for the API\\nSenstive info, codes are hidden. ')"
   ]
  },
  {
   "cell_type": "code",
   "execution_count": 3,
   "metadata": {},
   "outputs": [
    {
     "name": "stdout",
     "output_type": "stream",
     "text": [
      "Success!\n"
     ]
    }
   ],
   "source": [
    "try:\n",
    "    fs = Fatsecret(consumer_key, consumer_secret)\n",
    "except:\n",
    "    print(\"Failed\")\n",
    "else:\n",
    "    print(\"Success!\")"
   ]
  },
  {
   "cell_type": "markdown",
   "metadata": {},
   "source": [
    "### functions:\n",
    "\n",
    "#### top level: \n",
    "Give names and amount, return nutrition facts\n",
    "```\n",
    "meal__nutrition_calculator(response, name_list, amount_list)\n",
    "```\n",
    "\n",
    "#### Middle level:\n",
    "Calculate nutriton based on food and amount\n",
    "```\n",
    "meal_nutrition(food_list, amount_list, print_flag = True, break_down = False)\n",
    "```\n",
    "\n",
    "#### Bottom level\n",
    "Find one certain food (or the closest n results)\n",
    "```\n",
    "find_food_nutrition(response, name, max_results = 1)\n",
    "```\n",
    "\n",
    "\n",
    "\n",
    "\n",
    "\n"
   ]
  },
  {
   "cell_type": "markdown",
   "metadata": {},
   "source": [
    "### Define MyFood Class"
   ]
  },
  {
   "cell_type": "code",
   "execution_count": 4,
   "metadata": {},
   "outputs": [],
   "source": [
    "class MyFood:\n",
    "    \n",
    "    def __init__(self, name, food_id,serving_amount, cal, carb, fat, protein):\n",
    "        self.name = name\n",
    "        self.food_id = food_id\n",
    "        self.serving_amount = serving_amount\n",
    "        self.cal = cal\n",
    "        self.carb = carb\n",
    "        self.fat = fat\n",
    "        self.protein = protein\n",
    "        self.normalized_flag = False\n",
    "        \n",
    "    def show_nutrition_facts(self):\n",
    "        print('---'*10)\n",
    "        print('Food name: %s' % self.name)\n",
    "        print('Food id: %s' % self.food_id)\n",
    "        print('1 serving: %.2f g'  % self.serving_amount)\n",
    "        print('Calorie: %.2f cal, Carbs: %.2f g, Fat: %.2f g, Protein: %.2f g' %(self.cal, self.carb, self.fat, self.protein))\n",
    "\n",
    "    def normalize_serving(self):\n",
    "        if self.serving_amount:\n",
    "            goal = 100.0;\n",
    "            current = self.serving_amount;\n",
    "            if current!= goal:\n",
    "                self.serving_amount = goal;\n",
    "                ratio = goal/current ;\n",
    "                self.cal *= ratio;\n",
    "                self.carb *= ratio;\n",
    "                self.fat  *= ratio;\n",
    "                self.protein *= ratio;\n",
    "            self.normalized_flag = True;\n",
    "           \n",
    "        else:\n",
    "            print('This food \"%s\" has not serving amount info, we can not normalize it.' % self.name)\n",
    "            \n",
    "            \n",
    "    def calculate_nutrition(self, amount_g):\n",
    "        if self.serving_amount:\n",
    "            ratio = amount_g/self.serving_amount\n",
    "        else:\n",
    "            print('Warning: This food has not serving amount info')\n",
    "            ratio = 1.0; \n",
    "        return [self.cal*ratio, self.carb*ratio, self.fat * ratio, self.protein * ratio]    \n",
    "        \n",
    "                \n",
    "                \n",
    "        \n",
    "        \n",
    "\n",
    "        "
   ]
  },
  {
   "cell_type": "markdown",
   "metadata": {},
   "source": [
    "### Obtain food data from FatSecret API"
   ]
  },
  {
   "cell_type": "code",
   "execution_count": 5,
   "metadata": {},
   "outputs": [],
   "source": [
    "def find_food_nutrition(response, name, max_results = 1):\n",
    "    try:\n",
    "        foods = response.foods_search(name, max_results = max_results)\n",
    "    except:\n",
    "        print(\"Food %s is not found!\"%name)\n",
    "    else:\n",
    "        id_list = [f['food_id'] for f in foods]\n",
    "        if len(id_list)>=max_results:\n",
    "            id_list = id_list[0:max_results]\n",
    "    \n",
    "    food_list = [];\n",
    "    \n",
    "    for idx in id_list:\n",
    "        food = response.food_get(idx)\n",
    "        all_servings = food['servings']['serving']\n",
    "        if isinstance(all_servings,list):\n",
    "            chosen_serving = all_servings[0]\n",
    "        else:\n",
    "            chosen_serving = all_servings\n",
    "        try : \n",
    "            serving_amount = chosen_serving['metric_serving_amount']\n",
    "            serving_amount = float(serving_amount)\n",
    "        except:\n",
    "            serving_amount = None\n",
    "            \n",
    "        name =  food['food_name']   \n",
    "        cal = float(chosen_serving['calories'])\n",
    "        carb = float(chosen_serving['carbohydrate'])\n",
    "        fat = float(chosen_serving['fat'])\n",
    "        protein = float(chosen_serving['protein'])\n",
    "            \n",
    "#         print('---'*10)\n",
    "#         print('Food name: %s' % name)\n",
    "#         print('Food id: %s' % idx)\n",
    "#         print('1 serving: %s g'  % serving_amount)\n",
    "#         print('Calorie: %s cal, Carbs: %sg, Fat: %sg, Protein: %sg' %(cal,carb,fat,protein))\n",
    "        \n",
    "        temp_food = MyFood(name, idx, serving_amount, cal, carb, fat, protein)\n",
    "        \n",
    "        food_list.append(temp_food)\n",
    "    \n",
    "    return food_list\n",
    "        \n",
    "    \n",
    "        \n",
    "    "
   ]
  },
  {
   "cell_type": "markdown",
   "metadata": {},
   "source": [
    "### Calculate Meal Nutrition based on food list and amount list"
   ]
  },
  {
   "cell_type": "code",
   "execution_count": 6,
   "metadata": {},
   "outputs": [],
   "source": [
    "def meal_nutrition(food_list, amount_list, print_flag = True, break_down = False):\n",
    "    total = [0.0]*4\n",
    "    if break_down:\n",
    "        nutri_list = [];\n",
    "        \n",
    "    for ii, food in enumerate(food_list):\n",
    "        nutrition = food.calculate_nutrition(amount_list[ii])\n",
    "        for jj in range(4):\n",
    "            total[jj] += nutrition[jj]\n",
    "        if break_down:\n",
    "            nutri_list.append(nutrition)\n",
    "    \n",
    "    print('Meal nutrition facts:')\n",
    "    print('Calorie: %.2f, Carb: %.2f, Fat: %.2f, Protein: %.2f'%(total[0],total[1],total[2],total[3]))\n",
    "    if break_down:\n",
    "        print(\"\\nNutrition breakdown:\")\n",
    "        for ii, food in enumerate(food_list):\n",
    "            print('----'*10)\n",
    "            temp_nutrition = nutri_list[ii]\n",
    "            print('%s, amount %s g' %(food.name, amount_list[ii]))\n",
    "            print('Calorie: %.2f (%.1f%%), Carb: %.2f (%.1f%%), Fat: %.2f (%.1f%%), Protein: %.2f (%.1f%%)'%\n",
    "                  (temp_nutrition[0],100*temp_nutrition[0]/total[0],\n",
    "                   temp_nutrition[1],100*temp_nutrition[1]/total[1],\n",
    "                   temp_nutrition[2],100*temp_nutrition[2]/total[2],\n",
    "                   temp_nutrition[3],100*temp_nutrition[3]/total[3]))\n",
    "            \n",
    "        "
   ]
  },
  {
   "cell_type": "code",
   "execution_count": 9,
   "metadata": {},
   "outputs": [],
   "source": [
    "def meal__nutrition_calculator(response, name_list, amount_list):\n",
    "    food_list = [];\n",
    "    for foo in name_list:\n",
    "        temp_food = find_food_nutrition(fs,foo)[0]\n",
    "        food_list.append(temp_food)\n",
    "        temp_food.normalize_serving()\n",
    "        #temp_food.show_nutrition_facts()\n",
    "    meal_nutrition(food_list,amount_list,break_down=True)"
   ]
  },
  {
   "cell_type": "markdown",
   "metadata": {},
   "source": [
    "### Test codes"
   ]
  },
  {
   "cell_type": "code",
   "execution_count": 181,
   "metadata": {
    "scrolled": true
   },
   "outputs": [],
   "source": [
    "food_list = find_food_nutrition(fs,'pasta',max_results=3)"
   ]
  },
  {
   "cell_type": "code",
   "execution_count": 182,
   "metadata": {
    "collapsed": true
   },
   "outputs": [
    {
     "name": "stdout",
     "output_type": "stream",
     "text": [
      "------------------------------\n",
      "Food name: Penne\n",
      "Food id: 285243\n",
      "1 serving: 140.00 g\n",
      "Calorie: 220.00 cal, Carbs: 42.95 g, Fat: 1.29 g, Protein: 8.07 g\n"
     ]
    }
   ],
   "source": [
    "food_list[0].show_nutrition_facts()"
   ]
  },
  {
   "cell_type": "code",
   "execution_count": 183,
   "metadata": {
    "collapsed": true
   },
   "outputs": [
    {
     "data": {
      "text/plain": [
       "[157.14285714285714, 30.67857142857143, 0.9214285714285715, 5.764285714285714]"
      ]
     },
     "execution_count": 183,
     "metadata": {},
     "output_type": "execute_result"
    }
   ],
   "source": [
    "food_list[0].calculate_nutrition(100)"
   ]
  },
  {
   "cell_type": "code",
   "execution_count": 184,
   "metadata": {
    "collapsed": true
   },
   "outputs": [
    {
     "name": "stdout",
     "output_type": "stream",
     "text": [
      "Normalizate : 1 serving amount = 100g\n"
     ]
    },
    {
     "data": {
      "text/plain": [
       "True"
      ]
     },
     "execution_count": 184,
     "metadata": {},
     "output_type": "execute_result"
    }
   ],
   "source": [
    "food_list[0].normalize_serving()"
   ]
  },
  {
   "cell_type": "code",
   "execution_count": 186,
   "metadata": {
    "collapsed": true
   },
   "outputs": [
    {
     "name": "stdout",
     "output_type": "stream",
     "text": [
      "------------------------------\n",
      "Food name: Penne\n",
      "Food id: 285243\n",
      "1 serving: 100.00 g\n",
      "Calorie: 157.14 cal, Carbs: 30.68 g, Fat: 0.92 g, Protein: 5.76 g\n"
     ]
    }
   ],
   "source": [
    "food_list[0].show_nutrition_facts()"
   ]
  },
  {
   "cell_type": "code",
   "execution_count": 203,
   "metadata": {
    "collapsed": true
   },
   "outputs": [
    {
     "name": "stdout",
     "output_type": "stream",
     "text": [
      "Meal nutrition facts:\n",
      "Calorie: 471.43, Carb: 92.04, Fat: 2.76, Protein: 17.29\n",
      "Nutrition breakdown:\n",
      "----------------------------------------\n",
      "Penne, amount 100 g\n",
      "Calorie: 157.14 (33.3%), Carb: 30.68 (33.3%), Fat: 0.92 (33.3%), Protein: 5.76 (33.3%)\n",
      "----------------------------------------\n",
      "Spaghetti, amount 100 g\n",
      "Calorie: 157.14 (33.3%), Carb: 30.68 (33.3%), Fat: 0.92 (33.3%), Protein: 5.76 (33.3%)\n",
      "----------------------------------------\n",
      "Rotini, amount 100 g\n",
      "Calorie: 157.14 (33.3%), Carb: 30.68 (33.3%), Fat: 0.92 (33.3%), Protein: 5.76 (33.3%)\n"
     ]
    }
   ],
   "source": [
    "meal_nutrition(food_list,[100,100,100],break_down=True)"
   ]
  },
  {
   "cell_type": "code",
   "execution_count": 11,
   "metadata": {
    "scrolled": true
   },
   "outputs": [
    {
     "name": "stdout",
     "output_type": "stream",
     "text": [
      "Meal nutrition facts:\n",
      "Calorie: 591.02, Carb: 92.18, Fat: 9.16, Protein: 33.05\n",
      "\n",
      "Nutrition breakdown:\n",
      "----------------------------------------\n",
      "White Rice (Long-Grain, Dry, Unenriched, Parboiled), amount 100 g\n",
      "Calorie: 373.80 (63.2%), Carb: 80.43 (87.3%), Fat: 1.04 (11.3%), Protein: 8.11 (24.5%)\n",
      "----------------------------------------\n",
      "Ground Beef 93%, amount 112 g\n",
      "Calorie: 170.00 (28.8%), Carb: 0.00 (0.0%), Fat: 8.00 (87.3%), Protein: 24.00 (72.6%)\n",
      "----------------------------------------\n",
      "Oranges, amount 100 g\n",
      "Calorie: 47.22 (8.0%), Carb: 11.75 (12.7%), Fat: 0.12 (1.3%), Protein: 0.94 (2.8%)\n"
     ]
    }
   ],
   "source": [
    "meal__nutrition_calculator(fs, ['rice dry','ground beef 93%','orange'],[100,112,100])"
   ]
  },
  {
   "cell_type": "code",
   "execution_count": null,
   "metadata": {},
   "outputs": [],
   "source": []
  }
 ],
 "metadata": {
  "celltoolbar": "Hide code",
  "kernelspec": {
   "display_name": "Python 3",
   "language": "python",
   "name": "python3"
  },
  "language_info": {
   "codemirror_mode": {
    "name": "ipython",
    "version": 3
   },
   "file_extension": ".py",
   "mimetype": "text/x-python",
   "name": "python",
   "nbconvert_exporter": "python",
   "pygments_lexer": "ipython3",
   "version": "3.8.5"
  }
 },
 "nbformat": 4,
 "nbformat_minor": 4
}
